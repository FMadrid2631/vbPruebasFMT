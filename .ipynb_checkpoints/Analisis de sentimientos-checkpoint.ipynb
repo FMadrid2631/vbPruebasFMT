{
 "cells": [
  {
   "cell_type": "code",
   "execution_count": 8,
   "metadata": {},
   "outputs": [
    {
     "name": "stdout",
     "output_type": "stream",
     "text": [
      "Requirement already satisfied: classifier in c:\\users\\ferna\\anaconda3\\lib\\site-packages (2.0)\n",
      "Requirement already satisfied: arrow in c:\\users\\ferna\\anaconda3\\lib\\site-packages (from classifier) (1.2.3)\n",
      "Requirement already satisfied: python-dateutil>=2.7.0 in c:\\users\\ferna\\anaconda3\\lib\\site-packages (from arrow->classifier) (2.9.0.post0)\n",
      "Requirement already satisfied: six>=1.5 in c:\\users\\ferna\\anaconda3\\lib\\site-packages (from python-dateutil>=2.7.0->arrow->classifier) (1.16.0)\n",
      "Note: you may need to restart the kernel to use updated packages.\n"
     ]
    }
   ],
   "source": [
    "pip install classifier"
   ]
  },
  {
   "cell_type": "code",
   "execution_count": 9,
   "metadata": {},
   "outputs": [
    {
     "ename": "ImportError",
     "evalue": "cannot import name 'SentimentClassifier' from 'classifier' (c:\\Users\\Ferna\\anaconda3\\Lib\\site-packages\\classifier\\__init__.py)",
     "output_type": "error",
     "traceback": [
      "\u001b[1;31m---------------------------------------------------------------------------\u001b[0m",
      "\u001b[1;31mImportError\u001b[0m                               Traceback (most recent call last)",
      "Cell \u001b[1;32mIn[9], line 4\u001b[0m\n\u001b[0;32m      1\u001b[0m \u001b[38;5;66;03m## Analiisis de Sentimientos\u001b[39;00m\n\u001b[0;32m      2\u001b[0m \u001b[38;5;66;03m#importar la libreria\u001b[39;00m\n\u001b[1;32m----> 4\u001b[0m \u001b[38;5;28;01mfrom\u001b[39;00m \u001b[38;5;21;01mclassifier\u001b[39;00m \u001b[38;5;28;01mimport\u001b[39;00m SentimentClassifier\n\u001b[0;32m      6\u001b[0m \u001b[38;5;66;03m#Instanciamos\u001b[39;00m\n\u001b[0;32m      7\u001b[0m clf \u001b[38;5;241m=\u001b[39m SentimentClassifier()\n",
      "\u001b[1;31mImportError\u001b[0m: cannot import name 'SentimentClassifier' from 'classifier' (c:\\Users\\Ferna\\anaconda3\\Lib\\site-packages\\classifier\\__init__.py)"
     ]
    }
   ],
   "source": [
    "## Analiisis de Sentimientos\n",
    "#importar la libreria\n",
    "\n",
    "from classifier import SentimentClassifier\n",
    "\n",
    "#Instanciamos\n",
    "clf = SentimentClassifier()"
   ]
  },
  {
   "cell_type": "markdown",
   "metadata": {},
   "source": [
    "Ejecutamos 3 ejemplos: uno de un mensaje positivo, un mensaje negativo y otro mensaje neutral. Y veremos como la libreria detecta la polaridad de cada uno de los mensajes."
   ]
  },
  {
   "cell_type": "code",
   "execution_count": 4,
   "metadata": {},
   "outputs": [],
   "source": [
    "x = \"Esta muy buena esa pelicula\"\n",
    "\n",
    "y = \"Que Horrrible comida !!!\"\n",
    "\n",
    "z = \"Tuve una experiencia natural\""
   ]
  },
  {
   "cell_type": "code",
   "execution_count": null,
   "metadata": {},
   "outputs": [],
   "source": [
    "clf.predict(x)"
   ]
  },
  {
   "cell_type": "code",
   "execution_count": null,
   "metadata": {},
   "outputs": [],
   "source": []
  }
 ],
 "metadata": {
  "kernelspec": {
   "display_name": "base",
   "language": "python",
   "name": "python3"
  },
  "language_info": {
   "codemirror_mode": {
    "name": "ipython",
    "version": 3
   },
   "file_extension": ".py",
   "mimetype": "text/x-python",
   "name": "python",
   "nbconvert_exporter": "python",
   "pygments_lexer": "ipython3",
   "version": "3.12.4"
  }
 },
 "nbformat": 4,
 "nbformat_minor": 2
}
