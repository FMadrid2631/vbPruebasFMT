{
 "cells": [
  {
   "cell_type": "code",
   "execution_count": null,
   "metadata": {},
   "outputs": [],
   "source": [
    "pip install classifier"
   ]
  },
  {
   "cell_type": "code",
   "execution_count": 17,
   "metadata": {},
   "outputs": [
    {
     "name": "stderr",
     "output_type": "stream",
     "text": [
      "usage: ipykernel_launcher.py [-h] [-v] [-et] [-t] [-rst] [-st SPECIFIC_TYPES [SPECIFIC_TYPES ...]]\n",
      "                             [-sf SPECIFIC_FOLDER] [-o OUTPUT] [-d DIRECTORY] [-dt] [-df DATEFORMAT]\n",
      "ipykernel_launcher.py: error: unrecognized arguments: -f C:\\Users\\Ferna\\AppData\\Roaming\\jupyter\\runtime\\kernel-bddee3bf-2931-4e6a-9715-d17e71b4225f.json\n"
     ]
    },
    {
     "ename": "SystemExit",
     "evalue": "2",
     "output_type": "error",
     "traceback": [
      "An exception has occurred, use %tb to see the full traceback.\n",
      "\u001b[1;31mSystemExit\u001b[0m\u001b[1;31m:\u001b[0m 2\n"
     ]
    }
   ],
   "source": [
    "from classifier import SentimentClassifier\n",
    "\n",
    "# Instanciar el clasificador\n",
    "clf = SentimentClassifier()\n",
    "# Ejemplo de uso\n",
    "resultado = clf.predict(\"Este es un gran día.\")\n",
    "print(resultado)"
   ]
  },
  {
   "cell_type": "markdown",
   "metadata": {},
   "source": [
    "Ejecutamos 3 ejemplos: uno de un mensaje positivo, un mensaje negativo y otro mensaje neutral. Y veremos como la libreria detecta la polaridad de cada uno de los mensajes."
   ]
  }
 ],
 "metadata": {
  "kernelspec": {
   "display_name": "Python 3 (ipykernel)",
   "language": "python",
   "name": "python3"
  },
  "language_info": {
   "codemirror_mode": {
    "name": "ipython",
    "version": 3
   },
   "file_extension": ".py",
   "mimetype": "text/x-python",
   "name": "python",
   "nbconvert_exporter": "python",
   "pygments_lexer": "ipython3",
   "version": "3.12.4"
  }
 },
 "nbformat": 4,
 "nbformat_minor": 4
}
